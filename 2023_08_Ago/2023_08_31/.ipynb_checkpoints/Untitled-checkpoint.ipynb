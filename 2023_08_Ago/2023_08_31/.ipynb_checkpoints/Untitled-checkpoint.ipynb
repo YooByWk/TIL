{
 "cells": [
  {
   "cell_type": "markdown",
   "id": "38b4d790",
   "metadata": {},
   "source": [
    "# 2023_08_31\n",
    "\n",
    "## 조합\n",
    "- 서로 다른 n개의 원소중 r개를 순서 없이 골라낸 것을 조합(combination) 이라고 부른다.\n",
    "- *nCr = n-1Cr-1 + n-1Cr (재귀적 표현)*\n",
    "- nC0 = 1  // 아무것도 선택하지 않은 경우\n",
    "- an (원배열) 하고, tr 필요함. / tr은 조합이 임시 저장될 배열.\n",
    "- 뒤에서부터 ( 최대 개수 생각하는 느낌)\n"
   ]
  },
  {
   "cell_type": "code",
   "execution_count": 3,
   "id": "f24de064",
   "metadata": {},
   "outputs": [
    {
     "name": "stdout",
     "output_type": "stream",
     "text": [
      "조합 출력\n",
      "[3, 4, 5]\n",
      "[2, 4, 5]\n",
      "[1, 4, 5]\n",
      "[2, 3, 5]\n",
      "[1, 3, 5]\n",
      "[1, 2, 5]\n",
      "[2, 3, 4]\n",
      "[1, 3, 4]\n",
      "[1, 2, 4]\n",
      "[1, 2, 3]\n",
      "완료\n"
     ]
    }
   ],
   "source": [
    "def ncr(n, r ):\n",
    "    if r==0:\n",
    "        print(tr)\n",
    "    elif n<r: # 남은 원소보다 밚은 원소를 선택해야 하는 경우\n",
    "        return # 불가능 \n",
    "    else: \n",
    "        tr[r-1] = a[n-1] # a[n-1]  조합에 포함시키는 경우\n",
    "        ncr(n-1, r-1)\n",
    "        ncr(n-1,r)  # a[n-1]을 포함시키지 않는 경우 \n",
    "        \n",
    "N = 5  # N 개 원소 중 \n",
    "R = 3  # R 개 출력\n",
    "a = [1,2,3,4,5]\n",
    "tr = [0]*R\n",
    "print('조합 출력')\n",
    "ncr(N,R)\n",
    "print('완료')"
   ]
  },
  {
   "cell_type": "code",
   "execution_count": 11,
   "id": "2710d077",
   "metadata": {},
   "outputs": [
    {
     "name": "stdout",
     "output_type": "stream",
     "text": [
      "3 2 1\n",
      "4 2 1\n",
      "5 2 1\n",
      "6 2 1\n",
      "4 3 1\n",
      "5 3 1\n",
      "6 3 1\n",
      "5 4 1\n",
      "6 4 1\n",
      "6 5 1\n",
      "4 3 2\n",
      "5 3 2\n",
      "6 3 2\n",
      "5 4 2\n",
      "6 4 2\n",
      "6 5 2\n",
      "5 4 3\n",
      "6 4 3\n",
      "6 5 3\n",
      "6 5 4\n"
     ]
    }
   ],
   "source": [
    "# [ 참고 ]\n",
    "def nCr(n,r,s): # n개에서 r 개를 고르는 조합 s 선택할 수 있는 구간의 시작\n",
    "    if r==0: \n",
    "        print(*comb)\n",
    "    else: \n",
    "        for i in range(s,n-r+1):\n",
    "            comb[r-1] =A[i]\n",
    "            nCr(n,r-1,i+1)\n",
    "A = [1,2,3,4,5,6]\n",
    "N = len(A)\n",
    "R = 3\n",
    "comb = [0] * R\n",
    "nCr(N,R, 0)"
   ]
  },
  {
   "cell_type": "code",
   "execution_count": 23,
   "id": "8544387e",
   "metadata": {},
   "outputs": [
    {
     "name": "stdout",
     "output_type": "stream",
     "text": [
      "-1, 3, -6, 7, -6, 1, 4, -2, \n",
      "-1, 3, -6, 7, -6, 5, -2, \n",
      "-1, 3, -6, -6, 1, 5, 4, \n",
      "-1, 3, -6, 1, 5, -2, \n",
      "-1, 3, -6, 4, \n",
      "-1, 3, -6, 1, 5, -2, \n",
      "-1, 3, -6, 4, \n",
      "-1, 3, -2, \n",
      "-1, -6, 7, -6, 1, 5, \n",
      "-1, -6, 7, \n",
      "-1, -6, 5, 4, -2, \n",
      "-1, 7, -6, \n",
      "-1, -6, 5, 4, -2, \n",
      "-1, 1, \n",
      "3, -6, 7, -6, 4, -2, \n",
      "3, -6, -6, 5, 4, \n",
      "3, -6, 1, 4, -2, \n",
      "3, -6, 5, -2, \n",
      "3, -6, 1, 4, -2, \n",
      "3, -6, 5, -2, \n",
      "-6, 7, -6, 1, 4, \n",
      "-6, 7, -6, 5, \n",
      "-6, 7, 1, -2, \n",
      "-6, 1, 5, \n",
      "7, -6, 1, -2, \n",
      "-6, 1, 5, \n",
      "\n"
     ]
    }
   ],
   "source": [
    "# 부분 집합 합 문제 구현\n",
    "# 원소의 합이 0 이 되는 부분 집합을 모두 출력하라.\n",
    "# 1. binary counting\n",
    "# 2. recursive\n",
    "\n",
    "def subset(i,N):\n",
    "    if i == N :\n",
    "        s = 0\n",
    "        for j in range(N):\n",
    "            if bit[j]:\n",
    "                s += arr[j]\n",
    "        if s == 0 :\n",
    "            for j in range(N):\n",
    "                if bit[j]:\n",
    "                    print(arr[j], end = ', ')\n",
    "            print()\n",
    "    else:\n",
    "        bit[i] = 1\n",
    "        subset(i+1, N)\n",
    "        bit[i] = 0 \n",
    "        subset(i+1,N )\n",
    "    # return    \n",
    "    \n",
    "\n",
    "\n",
    "arr = [-1, 3, -6 , 7, -6, 1, 5, 4, -2]\n",
    "N = len(arr)\n",
    "bit = [0] * N \n",
    "subset(0,N)\n"
   ]
  },
  {
   "cell_type": "code",
   "execution_count": 27,
   "id": "6ee96b8f",
   "metadata": {},
   "outputs": [
    {
     "ename": "TypeError",
     "evalue": "subset() missing 1 required positional argument: 'c'",
     "output_type": "error",
     "traceback": [
      "\u001b[1;31m---------------------------------------------------------------------------\u001b[0m",
      "\u001b[1;31mTypeError\u001b[0m                                 Traceback (most recent call last)",
      "Cell \u001b[1;32mIn[27], line 32\u001b[0m\n\u001b[0;32m     30\u001b[0m N \u001b[38;5;241m=\u001b[39m \u001b[38;5;28mlen\u001b[39m(arr)\n\u001b[0;32m     31\u001b[0m bit \u001b[38;5;241m=\u001b[39m [\u001b[38;5;241m0\u001b[39m] \u001b[38;5;241m*\u001b[39m N \n\u001b[1;32m---> 32\u001b[0m \u001b[43msubset\u001b[49m\u001b[43m(\u001b[49m\u001b[38;5;241;43m0\u001b[39;49m\u001b[43m,\u001b[49m\u001b[43mN\u001b[49m\u001b[43m,\u001b[49m\u001b[38;5;241;43m1\u001b[39;49m\u001b[43m)\u001b[49m\n",
      "\u001b[1;31mTypeError\u001b[0m: subset() missing 1 required positional argument: 'c'"
     ]
    }
   ],
   "source": [
    "\n",
    "def subset(i,N,s,c):\n",
    "    if s == 0 and c!= 0 :\n",
    "        return 1\n",
    "    elif i == N :\n",
    "        return 0\n",
    "    else:\n",
    "        if subset(i+1, N , s+arr[i],c+1):\n",
    "            return 1\n",
    "        if subset(i+1, N , s,c):\n",
    "            return 1\n",
    "        return 0\n",
    "#         for j in range(N):\n",
    "#             if bit[j]:\n",
    "#                 s += arr[j]\n",
    "#         if s == 0 :\n",
    "#             for j in range(N):\n",
    "#                 if bit[j]:\n",
    "#                     print(arr[j], end = ', ')\n",
    "#             print()\n",
    "#     else:\n",
    "#         bit[i] = 1\n",
    "#         subset(i+1, N)\n",
    "#         bit[i] = 0 \n",
    "#         subset(i+1,N )\n",
    "    # return    \n",
    "    \n",
    "\n",
    "\n",
    "arr = [-1, 3, -6 , 7, -6, 1, 5, 4, -2]\n",
    "N = len(arr)\n",
    "bit = [0] * N \n",
    "\n",
    "subset(0,N,1)\n",
    "# 작동 안해요 작동 # 작동 안해요 # 작동 안해요 작동 # 작동 안해요 \n",
    "# 작동 안해요 작동 # 작동 안해요 # 작동 안해요 작동 # 작동 안해요 \n",
    "# 작동 안해요 작동 # 작동 안해요 # 작동 안해요 작동 # 작동 안해요 \n",
    "# 작동 안해요 작동 # 작동 안해요 # 작동 안해요 작동 # 작동 안해요 "
   ]
  },
  {
   "cell_type": "markdown",
   "id": "27ed26a2",
   "metadata": {},
   "source": [
    "### 탐욕 알고리즘\n",
    "- 동작과정\n",
    "    - 해 선택 : 현재 상태에서 부분 문제의 최적 해를 구한 뒤, 이를 부분해 집합(solution set)에 추가\n",
    "    - 실행 가능성 검사 : 새로운 부분 해 집합이 실행가능한지 확인. 곧 문제의 제약 조건을 위반하지 않는지 검사\n",
    "    - 해 검사 : 새로운 부분 해 집합이 문제의 해가 되는지를 확인. 아직 전체 문제의  해가 완성되지 않았다면 1의 해 선택부터 다시 시작한다.\n",
    "    - 최적해를 반드시 구한다는 보장은 없다."
   ]
  },
  {
   "cell_type": "code",
   "execution_count": 33,
   "id": "f2fa34a1",
   "metadata": {},
   "outputs": [
    {
     "name": "stdout",
     "output_type": "stream",
     "text": [
      "[[1, 4], [1, 6], [6, 10], [5, 7], [3, 8], [5, 9], [3, 5], [8, 11], [2, 13], [12, 14]]\n",
      "[[0, 0], [1, 4], [3, 5], [1, 6], [5, 7], [3, 8], [5, 9], [6, 10], [8, 11], [2, 13], [12, 14]]\n",
      "[1, 4, 6, 7, 8, 10]\n"
     ]
    }
   ],
   "source": [
    "N = 10\n",
    "a = [1, 4, 1, 6, 6, 10,5,7,3,8,5,9,3,5,8,11,2,13,12,14]\n",
    "\n",
    "meet = []\n",
    "for i in range(N):\n",
    "    meet.append([a[i*2],a[i*2+1]])\n",
    "print(meet) \n",
    "meet.sort(key = lambda x : x[1]) # 람다로 뒷자리 기준으로 key를 잡고 정렬\n",
    "meet = [[0,0]] + meet\n",
    "print(meet)\n",
    "S = []\n",
    "j = 0\n",
    "for i in range(1,N+1):\n",
    "    if meet[i][0] >= meet[j][1]: # si >= \n",
    "        S.append(i)\n",
    "        j = 1\n",
    "print(S)"
   ]
  },
  {
   "cell_type": "markdown",
   "id": "8632f361",
   "metadata": {},
   "source": [
    "탐욕기법 vs 동적 계획법\n",
    "탐욕 : 매 단계에서 가장 좋게 보이는 것을 빠르게 선택 // 지역최적선택\n",
    "동적 : 매 단계  선택은 하위 문제의 해를 기반으로 함"
   ]
  },
  {
   "cell_type": "code",
   "execution_count": null,
   "id": "41bb415e",
   "metadata": {},
   "outputs": [],
   "source": []
  }
 ],
 "metadata": {
  "kernelspec": {
   "display_name": "Python 3 (ipykernel)",
   "language": "python",
   "name": "python3"
  },
  "language_info": {
   "codemirror_mode": {
    "name": "ipython",
    "version": 3
   },
   "file_extension": ".py",
   "mimetype": "text/x-python",
   "name": "python",
   "nbconvert_exporter": "python",
   "pygments_lexer": "ipython3",
   "version": "3.9.13"
  }
 },
 "nbformat": 4,
 "nbformat_minor": 5
}
