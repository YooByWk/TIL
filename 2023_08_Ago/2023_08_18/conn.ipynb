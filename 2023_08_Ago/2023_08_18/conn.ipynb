{
 "cells": [
  {
   "cell_type": "markdown",
   "metadata": {},
   "source": [
    "# BFS\n",
    "- Breath First Search\n",
    "\n"
   ]
  },
  {
   "cell_type": "code",
   "execution_count": null,
   "metadata": {},
   "outputs": [],
   "source": [
    "# 대충 알고리즘은 \n",
    "def BFS(G, v): # 그래프 G, 탐색점 v\n",
    "    visitied = [0]* (n+1) #  n : 정점의 개수\n",
    "    queue = [] # 큐 생성\n",
    "    queue.append(v)  #  시적점 v를 큐에 삽입\n",
    "    while queue:  #  큐가 비어있지 않은 경우\n",
    "        t  = queue.pop(0)  # 큐의 첫번째 원소 반환\n",
    "        if not visitied[t]:  #  방문되지 않은 곳이라면\n",
    "            visitied[t] = True  #  방문한 것으로 표시\n",
    "            visit(t)  #  정점 t에서 할 일\n",
    "            for i in G[t]: # t와 연결된 모든 정점에 대해 \n",
    "                if not visitied[i] # 방문되지 않은 곳이라면\n",
    "                queue.append(i) # 큐에 넣기\n",
    "                #작동 안합니다.  visit(t)가 아무것도없어서\n",
    "                "
   ]
  },
  {
   "cell_type": "markdown",
   "metadata": {},
   "source": [
    "## BFS 예제\n",
    "?\n",
    "시작해요. \n",
    "- dequeue A\n",
    "-  A를 방문한 것으로 표시\n",
    "-  A의 인접점 enqueue \n",
    "-  B 방문...\n",
    "-  dequeue B\n",
    "-  B 방문 표시 (visited[b] True)\n",
    "-  C 갑시당\n",
    "-  대충 이래요\n"
   ]
  },
  {
   "cell_type": "code",
   "execution_count": null,
   "metadata": {},
   "outputs": [],
   "source": [
    "'''\n",
    "7 8 \n",
    "1 2 1 3 2 4 2 5 4 6 5 6 6 7 3 7\n",
    "'''"
   ]
  },
  {
   "cell_type": "code",
   "execution_count": 2,
   "metadata": {},
   "outputs": [
    {
     "name": "stdout",
     "output_type": "stream",
     "text": [
      "1 방문!\n",
      "2 방문!\n",
      "3 방문!\n",
      "4 방문!\n",
      "5 방문!\n",
      "7 방문!\n",
      "6 방문!\n"
     ]
    }
   ],
   "source": [
    "def bfs(s, V): # 시작 정점 s 마지막 정점 v\n",
    "    visited = [0] * (V+1)  # visited 생성\n",
    "    q = [] # Queue 생성\n",
    "    q.append(s)  # 시작점 enQueue\n",
    "    visited[s] = 1  # 시작점 방문 표시\n",
    "# ----------- 준비 완료-------------------\n",
    "    while q: # 큐에 정점이 남아있으면 # front != rear \n",
    "        t = q.pop(0) # deQueue\n",
    "        print(t,'방문!') # 방문한 정점에서 할 일\n",
    "        for w in adj_l[t]:# 인접한 정점 중 인큐되지 않은 정점 W가 있다면\n",
    "            if visited[w] == 0:# w enQueue, enQueue 되었음을 표시\n",
    "                q.append(w)\n",
    "                visited[w] = visited[t] + 1\n",
    "    \n",
    "\n",
    "V, E = 7, 8\n",
    "arr = [1, 2, 1, 3, 2, 4, 2, 5, 4, 6, 5, 6, 6, 7, 3, 7]\n",
    "#--------인접리스트----------------------\n",
    "adj_l = [[] for _ in range(V+1)]\n",
    "for i in range(E):\n",
    "    v1, v2 = arr[i*2], arr[i*2+1]\n",
    "    adj_l[v1].append(v2)\n",
    "    adj_l[v2].append(v1) # 방향이 없는 경우\n",
    "#--------인접리스트----------------------\n",
    "\n",
    "bfs(1, 7)"
   ]
  },
  {
   "cell_type": "code",
   "execution_count": 4,
   "metadata": {},
   "outputs": [],
   "source": [
    "def find_start(N):\n",
    "    for r in range(N):\n",
    "        for c in range(N):\n",
    "            if maze[r][c] == 2:\n",
    "                return r,c"
   ]
  },
  {
   "cell_type": "code",
   "execution_count": 11,
   "metadata": {},
   "outputs": [],
   "source": [
    "def bfs(emR,emC,N):\n",
    "    visited = [[0]*N for _ in range(N)] # visited 생성\n",
    "    q = [] # Queue 생성\n",
    "    q.append((emR,emC)) # 시작점 enQueue\n",
    "    visited[emR][emC] =1 # 시작점 enQueue 표시\n",
    "    while q: # Queue가 비워질때까지\n",
    "        r, c = q.pop(0) # pop() 아니라 pop(0) 입니다. pop()하면 dfs돼요 deQueue\n",
    "        if maze[r][c] == 3:\n",
    "            return visited[r][c] -2     # 지나온 칸 수\n",
    "        # 인접하고 enQueue 된 적 없음:\n",
    "        # enQueue하고 표시\n",
    "        for dr,dc in [[0,1],[1,0],[0,-1],[-1,0]]:\n",
    "            nr, nc = r + dr , c + dc\n",
    "            if 0<= nr < N  and 0 <= nc < N and maze[nr][nc] != 1 and visited[nr][nc] == 0:\n",
    "                q.append((nr,nc))\n",
    "                visited[nr][nc] = visited[r][c] + 1 # 거리표시입니다.\n",
    "    return 0 # 탐색 실패, 경로 없음\n",
    "\n"
   ]
  },
  {
   "cell_type": "code",
   "execution_count": null,
   "metadata": {},
   "outputs": [
    {
     "name": "stdin",
     "output_type": "stream",
     "text": [
      " 3\n",
      " 5\n",
      " 13101\n",
      " 10101\n",
      " 10101\n",
      " 10101\n",
      " 10021\n"
     ]
    },
    {
     "name": "stdout",
     "output_type": "stream",
     "text": [
      "#1 5\n"
     ]
    }
   ],
   "source": [
    "T = int(input())\n",
    "for t in range(1,T+1):\n",
    "    N = int(input())\n",
    "    maze = [list(map(int, input()))for _ in range(N)]\n",
    "    emR,emC = find_start(N)\n",
    "    ans = bfs(emR,emC,N)\n",
    "\n",
    "    print(f'#{t} {ans}')\n"
   ]
  },
  {
   "cell_type": "code",
   "execution_count": null,
   "metadata": {},
   "outputs": [],
   "source": [
    "에..."
   ]
  }
 ],
 "metadata": {
  "kernelspec": {
   "display_name": "Python 3 (ipykernel)",
   "language": "python",
   "name": "python3"
  },
  "language_info": {
   "codemirror_mode": {
    "name": "ipython",
    "version": 3
   },
   "file_extension": ".py",
   "mimetype": "text/x-python",
   "name": "python",
   "nbconvert_exporter": "python",
   "pygments_lexer": "ipython3",
   "version": "3.11.4"
  }
 },
 "nbformat": 4,
 "nbformat_minor": 4
}
