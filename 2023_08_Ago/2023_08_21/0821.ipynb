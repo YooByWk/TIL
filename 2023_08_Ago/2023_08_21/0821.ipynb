{
 "cells": [
  {
   "cell_type": "markdown",
   "metadata": {},
   "source": [
    "# 2023_08_21\n",
    "\n",
    "## Tree \n",
    "### 특징\n",
    "- 비선형 구조\n",
    "- 원소들 간 계층관계를 가지는 계층형 자료구조\n",
    "- 상위 원소에서 하위 원소로 내려가면서 확장되는 트리(나무)모양의 구조\n",
    "- 정점은 간선보다 하나 많다.\n",
    "### 정의\n",
    "- 한 개 이상의 노드로 이루어진 유한집합\n",
    "  -  노드 중 최상위 노드를 Root라고 부르\n",
    "  -  나머지 노드들은 N개의 분리 집합으로 분리 가능하다.\n",
    "-  이 분리집합은 각각 하나의 트리가 되며(재귀적 정의) 루트의 부 트리(subtree)라고 한다.\n",
    "\n",
    "### 용어\n",
    "- node (노드) : 트리의 원소\n",
    "- edge (간선) : 노드를 연결하는 선, 부모 노드와 자식 노드를 연결\n",
    "- root node   : 트리의 시작 노드\n",
    "- sibling node (형제노드) : 같은 부모 노드의 자식 노드들\n",
    "- 조상노드 : 간선을 따라 루트 노드까지 이르는 경로에 있는 모든 노드들\n",
    "- subtree : 부모 노드와 연결된 간선을 끊었을 때 생성되는 트리\n",
    "- 자손 노드 : 서브 트리에 있는 하위 레벨의 노드들 \n",
    "- Degree (차수)\n",
    "  - 노드의 차수 : 노드에 연결된 자식 노드의 수\n",
    "  - 트리의 차수 : 트리에 있는 노드의 차수 중에서 가장 큰 값\n",
    "  -  단말 노드 (리프 노드) 차수가 0인 노드, 자식 노드가 없는 노드\n",
    "-  높이 \n",
    "   -  노드의 높이 : 루트에서 노드에 이르는 간선의 수, 노드의 레벨\n",
    "   -  트리의 높이 : 트리에 있는 노드의 높이 중에서 가장 큰 값. 최대 레벨\n",
    "\n",
    "### 이진트리 \n",
    "모든 노드들이 2개의 서브 트리를 갖는 특별한 형태의 트리 \n",
    "각 노드가 자식 노드를 최대한 2개 까지만 가질 수 있는 트리\n",
    "  - 왼쪽 자식 노드\n",
    "  - 오른쪽 자식 노드 \n",
    "\n",
    "#### 종류\n",
    "##### 포화 이진트리(Full Binary Tree *중요*\n",
    "- 모든 레벨 노드가 포화상태로 차 있는 이진트리\n",
    "- 높이가 h일 때, 최대의 노드 개수인(2^h+1  -1)의 노드를 가진 이진 트리\n",
    "- *루트를 1번*으로 하여 2^h+1 -1 까지 정해진 위치에 대한 노드 번호를 가짐\n",
    "##### 완전 이진 트리(Complete Binary Tree)\n",
    "- 높이가 h이고 노드 수가 n 개일때 (단, 2^h <= N <= 2^h+1  -1 )포화 이진 트리의 노드 번호 1번부터 N번까지 빈 자리가 없는 이진트리\n",
    "##### 편향 이진트리 (skewed Binary Tree)\n",
    "- 높이 h에 대한 최소 개수의 노드를 가지면서 한쪽 방향의 자식 노드만을 가진 이진트리\n",
    "  -  왼쪽 편향 이진트리\n",
    "  -  오른쪽 편향 이진트리\n",
    "---\n",
    "\n",
    "\n",
    "#### 순회\n",
    ": 트리의 노드들을 체계적으로 방문하는 것\n",
    "traversal(순회)란 트리의 각 노드를 중복되지 않게 전부 방문(visit)하는 것을 말하는데 트리는 비 선형 구조이기 때문에 선형구조에서와 같이 선후 연결 관계를 알 수 없다. \n",
    "\n",
    "-순회의 3가지 기본적 방법\n",
    "  - 전위 순회 (VLR)\n",
    "    - 부모노드 방문 후, 자식 노드를 좌,우 순서로 방문한다. \n",
    "      -  수행방법\n",
    "      -  1) 현재 노드 N을 방문, 처리\n",
    "      -  2) 현재 노드 N의 왼쪽 서브트리로 이동\n",
    "      -  3) 현재 노드 N의 오른쪽 서브트리로 이동\n",
    "  - 중위 순회 (LCR)\n",
    "    - 왼쪽 자식노드, 부모노드, 오른쪽 자식노드 순으로 방문한다.\n",
    "  - 후위 순회 (LRV)\n",
    "    - 자식노드를 좌 우 방문한 후, 부모노드로 방문"
   ]
  },
  {
   "cell_type": "code",
   "execution_count": null,
   "metadata": {},
   "outputs": [],
   "source": [
    "# 전위순회\n",
    "# 니 잘자더라 허접아 ㅋㅋ\n",
    "# 정리해"
   ]
  },
  {
   "cell_type": "code",
   "execution_count": null,
   "metadata": {},
   "outputs": [],
   "source": []
  },
  {
   "cell_type": "code",
   "execution_count": null,
   "metadata": {},
   "outputs": [],
   "source": [
    "# 중위 순회"
   ]
  },
  {
   "cell_type": "code",
   "execution_count": null,
   "metadata": {},
   "outputs": [],
   "source": []
  },
  {
   "cell_type": "markdown",
   "metadata": {},
   "source": [
    "##### 후위 순회(postorder traversal) \n",
    "1) 현재 노드 N 의 왼쪽 서브트리로 이동 L :\n",
    "2) 현재 노드 n의 오른쪽 서브트리로 이동 R :"
   ]
  },
  {
   "cell_type": "markdown",
   "metadata": {},
   "source": [
    "#### 이진트리의 표현\n",
    "- 배열을 이용한 이진 트리의 표현\n",
    "  - 이진 트리에 각 노드 번호를 다음과 같이 부여\n",
    "  - 루트의 번호를 1로 함\n",
    "  - 레벨 n에 있는 노드에 대해 왼쪽부터 오른쪽으로 2^n부터 2^n+1 -1 까지 번호를 차례로 부여\n",
    "  - 노드 번호의 성질 \n",
    "    - 노드 번호가 i인 노드의 부모 번호 노드 i/2\n",
    "    - 노드 번호가 i인 노드의 오른쪽 자식 노드 번호 2*i +1\n",
    "    - 노드 번호가 i인 노드의 왼쪽 자식 노드 번호 *i\n",
    "    - 레벨 n의 노드 번호 시작 번호는 2^n\n",
    "    - 노드 번호를 배열의 인덱스로 사용\n",
    "    - 높이가 h인 이진 트리를 위한 배열의 크기는 2^n"
   ]
  },
  {
   "cell_type": "markdown",
   "metadata": {},
   "source": []
  },
  {
   "cell_type": "markdown",
   "metadata": {},
   "source": [
    "#####  이진 트리의 저장?\n",
    " 부모 번호를 인덱스로 자식 번호를 저장!\n",
    "1. 이진트리는 자식이 두개입니다. // 리스트 두개면 좋겠죠\n",
    "2. 자식 번호를 인덱스로 부모 번호를 저장.\n",
    "```pseudo\n",
    "for i :  1 - > N \n",
    "    read p,c\n",
    "    par[c] = p\n",
    "```\n",
    "배열 단점 : \n",
    "- 편향 이진 트리의 경우 사용하지 않는 배열 원소에 대한 메모리 낭비\n",
    "- 크기 변경도 힘듦.\n"
   ]
  },
  {
   "cell_type": "code",
   "execution_count": 10,
   "metadata": {},
   "outputs": [
    {
     "name": "stdout",
     "output_type": "stream",
     "text": [
      "[0, 2, 4, 5, 7, 8, 10, 12, 0, 0, 0, 13, 0, 0] [0, 3, 0, 6, 0, 9, 11, 0, 0, 0, 0, 0, 0, 0]\n"
     ]
    }
   ],
   "source": [
    "\"\"\"\n",
    "연습문제.\n",
    "이진 트리 표현 전위 순회, 정점 번호 출력\n",
    "13\n",
    "1 2 1 3 2 4 3 5 3 6 4 7 5 8 5 9 6 10 6 11 7 12 11 13\n",
    "\"\"\"\n",
    "arr = [1, 2, 1, 3, 2, 4, 3, 5, 3, 6, 4, 7, 5, 8, 5, 9, 6, 10, 6, 11, 7, 12, 11, 13]\n",
    "V = 13 # 정점 수=  마지막 정점 번호\n",
    "E = V-1 # 트리의 간선 수 = 정점 수 -1\n",
    "# 부모를 인덱스로 자식을 저장\n",
    "ch1 = [0] * (V +1)\n",
    "ch2 = [0] * (V +1)\n",
    "for i in range(E):\n",
    "    p, c = arr[i*2], arr[i*2+1]\n",
    "    if ch1[p] == 0:\n",
    "        ch1[p] = c\n",
    "    else: \n",
    "        ch2[p] = c\n",
    "\n",
    "print(ch1,ch2)\n"
   ]
  },
  {
   "cell_type": "code",
   "execution_count": 11,
   "metadata": {},
   "outputs": [
    {
     "name": "stdout",
     "output_type": "stream",
     "text": [
      "1\n",
      "2\n",
      "4\n",
      "7\n",
      "12\n",
      "3\n",
      "5\n",
      "8\n",
      "9\n",
      "6\n",
      "10\n",
      "11\n",
      "13\n"
     ]
    }
   ],
   "source": [
    "def preorder(n):\n",
    "    if n: # 존재하는 정점이면\n",
    "        print(n)\n",
    "        preorder(ch1[n]) # 왼쪽 서브트리 이동\n",
    "        preorder(ch2[n]) # 오른쪽 서브트리 이동\n",
    "\n",
    "preorder(1)"
   ]
  },
  {
   "cell_type": "code",
   "execution_count": null,
   "metadata": {},
   "outputs": [],
   "source": [
    "arr = [1, 2, 1, 3, 2, 4, 3, 5, 3, 6, 4, 7, 5, 8, 5, 9, 6, 10, 6, 11, 7, 12, 11, 13]\n",
    "par = [0] * (V+1)\n",
    "for i in range(E):\n",
    "    p, c = arr[i*2], arr[i*2+1]\n",
    "    if ch1[p] == 0:  # 자식 1이 아직 없으면\n",
    "        ch1[p] = c\n",
    "    else:\n",
    "        ch2[p] = c\n",
    "    par[c] = p  #  자식을 인덱스로 부모 저장 \n",
    "root = 1\n",
    "while par[root] != 0 :\n",
    "    root += 1\n",
    "print(root,'t')\n",
    "preorder(root)\n",
    "# 얘 상태 이상한것같은데."
   ]
  },
  {
   "cell_type": "code",
   "execution_count": null,
   "metadata": {},
   "outputs": [],
   "source": []
  }
 ],
 "metadata": {
  "kernelspec": {
   "display_name": "Python 3",
   "language": "python",
   "name": "python3"
  },
  "language_info": {
   "codemirror_mode": {
    "name": "ipython",
    "version": 3
   },
   "file_extension": ".py",
   "mimetype": "text/x-python",
   "name": "python",
   "nbconvert_exporter": "python",
   "pygments_lexer": "ipython3",
   "version": "3.11.4"
  },
  "orig_nbformat": 4
 },
 "nbformat": 4,
 "nbformat_minor": 2
}
