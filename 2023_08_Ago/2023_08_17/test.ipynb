{
 "cells": [
  {
   "cell_type": "markdown",
   "metadata": {},
   "source": [
    "# 2023_08_17\n",
    "\n",
    "## Queue \n",
    "\n",
    "선입선출 FIFO 구조.\n",
    "\n",
    "Front \n",
    "- 저장된 원소 중 첫 번째 원소\n",
    "\n",
    "\n",
    "Rear\n",
    "- 저장된 원소 중 마지막 원소\n",
    "\n",
    "\n",
    "### *큐의 기본 연산*\n",
    "\n",
    "- enQueue  ( stack : push)\n",
    "- deQueue  ( stack : pop)\n",
    "\n",
    "###   Queue 의 연산 과정\n",
    "\n",
    "--> 인덱스가 두개라고 생각하면 편해요 \n",
    "1) 공백 큐 생성 : createQueue() front = rear = -1\n",
    "2) 원소 A 삽입 : enQueue(A)  rear +=  1 Q[rear] = A\n",
    "3) 원소 B 삽입 : enQueue(B)  rear += 1 , Q[rear] = B\n",
    "4) 원소 반환 / 삭제 : deQueue(): front += 1, tmp = Q[front] \\ or tmp = Q.pop(0)\n",
    "5) 원소 C 삽입 : enQueue(c):  rear += 1, Q[rear] = c /\\ Q.append(c)\n",
    "6) 원소 반환 / 삭제 : deQueue()\n",
    "7) 원소 반환 삭제 : deQueue()\n",
    "### 구현\n",
    "\n",
    "#### 선형큐\n",
    "\n",
    "- 1차원 배열을 이용한 큐\n",
    "   - 큐의 크기 = 배열의 크기\n",
    "   - front : 저장된 첫 번째 원소의 인덱스\n",
    "  - rear : 저장된 마지막 원소의 인덱스 \n",
    "\n",
    "- 상태 표현\n",
    "  - 초기 상태 : front = rear = -1\n",
    "  - 공백 상태 : front == rear \n",
    "  - 포화 상태 : rear == n-1 ( n: 배열의 크기, n-1 배열의 마지막 인덱스)\n",
    "  \n",
    "- 삽입 : enQueue(item)\n",
    "  - 마지막 원소 뒤에 새로운 원소를 삽입하기 위해\n",
    "  - 1) rear값을 하나 증가시켜 새로운 원소를 삽입할 자리 마련\n",
    "  - 2) 그 인덱스에 해당하는 배열원소 Q[rear]에 item을 저장\n",
    "  - 검색 : Qpeek() \n",
    "  - 가장 앞에 있는 원소를 검색하여 반환하는 연산\n",
    "  -  현재 front 의 한자리 뒤 fornt + 1 에 있는 원소 즉 큐의 첫 번째에 있는 원소를 반환."
   ]
  },
  {
   "cell_type": "code",
   "execution_count": 4,
   "metadata": {},
   "outputs": [],
   "source": [
    "def enQ(data):\n",
    "    global rear\n",
    "    if rear == Qsize -1:\n",
    "        print('Q is full',data)\n",
    "    else: \n",
    "        rear += 1\n",
    "        Q[rear] = data"
   ]
  },
  {
   "cell_type": "code",
   "execution_count": 5,
   "metadata": {},
   "outputs": [],
   "source": [
    "def deQ():\n",
    "    global front\n",
    "    if front == rear:\n",
    "        print('Q is empty')\n",
    "        return -1\n",
    "    else:\n",
    "        front += 1\n",
    "        return Q[front]\n"
   ]
  },
  {
   "cell_type": "code",
   "execution_count": 6,
   "metadata": {},
   "outputs": [],
   "source": [
    "Qsize = 3 \n",
    "Q  = [0] * Qsize\n",
    "rear = -1\n",
    "front = -1\n",
    "# 기본적 설정 ?"
   ]
  },
  {
   "cell_type": "markdown",
   "metadata": {},
   "source": [
    "이제 넣고 빼고 해봅시다"
   ]
  },
  {
   "cell_type": "code",
   "execution_count": 7,
   "metadata": {},
   "outputs": [
    {
     "name": "stdout",
     "output_type": "stream",
     "text": [
      "[1, 2, 3]\n",
      "1\n",
      "2\n",
      "3\n",
      "Q is full 4\n",
      "Q is full 5\n"
     ]
    }
   ],
   "source": [
    "enQ(1)\n",
    "enQ(2)\n",
    "# enQ(3)\n",
    "# 아래랑 \n",
    "rear += 1\n",
    "Q[rear] = 3 \n",
    "# 같아요\n",
    "print(Q)\n",
    "print(deQ()) # 1\n",
    "print(deQ()) # 2\n",
    "print(deQ()) # 3\n",
    "enQ(4) # Q is full 4\n",
    "enQ(5) # Q is full 5"
   ]
  },
  {
   "cell_type": "code",
   "execution_count": 8,
   "metadata": {},
   "outputs": [
    {
     "name": "stdout",
     "output_type": "stream",
     "text": [
      "1\n",
      "2\n",
      "3\n"
     ]
    }
   ],
   "source": [
    "Q.append(1)\n",
    "Q.append(2)\n",
    "Q.append(3)\n",
    "print(Q.pop(0))\n",
    "print(Q.pop(0))\n",
    "print(Q.pop(0))"
   ]
  },
  {
   "cell_type": "markdown",
   "metadata": {},
   "source": [
    "### 선형 큐 이용시의 문제점\n",
    "- 잘못된 포화상태 인식\n",
    "  - 선형 큐를 이용하여 원소의 삽입과 삭제를 계속할 경우, 배열의 앞부분에 활용할 수 있는 공간이 있음에도 불구하고, rear = n-1인 상태, 즉 포화상태로 인식하여 더이상의 삽입을 수행하지 않게 됨\n",
    "  "
   ]
  },
  {
   "cell_type": "markdown",
   "metadata": {},
   "source": [
    "- 해결법 1 : \n",
    "  - 매 연산이 이루어질 때마다 저장된 원소들을 배열의 앞부분으로 모두 이동시킴.\n",
    "  - 원소 이동에 많은 시간이 소요되어 큐의 효율성이 급격히 떨어짐\n",
    "<br>\n",
    "- 해결법 2 : \n",
    "   - 1차원 배열을 이용하되, 논리적으로는 배열의 처음과 끝이 연결되어 원형 형태의 큐를 이룬다고 가정하고 사용"
   ]
  },
  {
   "cell_type": "markdown",
   "metadata": {},
   "source": [
    "### 원형큐의 구조\n",
    "- front = rear = 0\n",
    "- index의 순환 \n",
    "  - front와 rear의 위치가 배열의 마지막 인덱스인 n-1을 가리킨 후 그 다음에는 논리적 순환을 이루어 배열의 처음 인덱스인 0으로 이동해야한다.\n",
    "  - 이를 위해 나머지 연산자 mod를 이용\n",
    "- front 변수\n",
    "  - 공백 상태와 포화 상태 구분을 쉽게 하기 위해 front의 자리는 사용하지 않고 항상 빈자리로 둔다\n",
    "- 공백상태 : front == rear\n",
    "- 포화상태 : 삽입할 rear의 다음 위치 == 현재 front"
   ]
  },
  {
   "cell_type": "markdown",
   "metadata": {},
   "source": [
    "#### 구현\n"
   ]
  },
  {
   "cell_type": "code",
   "execution_count": 20,
   "metadata": {},
   "outputs": [],
   "source": [
    "def enq(data):\n",
    "    global  rear\n",
    "    if (rear+1) % cQsize == front:\n",
    "        print('cQ is full')\n",
    "    else:\n",
    "        rear = (rear+1) % cQsize\n",
    "        cQ[rear] = data\n",
    "\n",
    "def deq():\n",
    "    global front\n",
    "    front = (front+1) % cQsize\n",
    "    return cQ[front]\n",
    "\n",
    "cQsize = 4\n",
    "cQ = [0] * cQsize\n",
    "front = 0\n",
    "rear = 0\n"
   ]
  },
  {
   "cell_type": "code",
   "execution_count": 25,
   "metadata": {},
   "outputs": [
    {
     "name": "stdout",
     "output_type": "stream",
     "text": [
      "cQ is full\n",
      "cQ is full\n",
      "[4, 1, 4, 1]\n",
      "cQ is full\n",
      "cQ is full\n",
      "cQ is full\n",
      "4\n",
      "1\n"
     ]
    }
   ],
   "source": [
    "enq(1)\n",
    "enq(2)\n",
    "print(cQ)                             \n",
    "enq(3)   \n",
    "enq(4)\n",
    "enq(5)\n",
    "print(deq())\n",
    "print(deq())\n",
    "enq(4)"
   ]
  },
  {
   "cell_type": "markdown",
   "metadata": {},
   "source": [
    "### 우선순위 큐\n",
    "\n",
    "- 우선순위 큐의 특성\n",
    "  - 우선순위를 가진 항목들을 저장하는 큐\n",
    "  - FIFO 순서가 아니라 우선순위가 높은 순서대로 먼저 나가게 된다\n",
    "<p>\n",
    "\n",
    "- 우선순위 큐의 적용 분야\n",
    "  - 시뮬레이션 시스템\n",
    "  - 네트워크 트래픽 제어\n",
    "  - 운영체제의 테스크 스케쥴링\n"
   ]
  },
  {
   "cell_type": "markdown",
   "metadata": {},
   "source": [
    "~~구현~~ :\n",
    "~~배열을 이용한..~~\n",
    "~~원소를 삽입하는 과정에서 우선순위...비교...~~\n",
    "~~문제점 :~~\n",
    "- ~~배열을 사용하므로 삽입이나 삭제 연산이 일어날 때 원소의 재배치가 발생한다~~\n",
    "- ~~이에 소요되는 시간이나 메모리 낭비가 크다.~~"
   ]
  },
  {
   "cell_type": "markdown",
   "metadata": {},
   "source": [
    "### 큐의 활용 : Buffer\n",
    "\n",
    "버퍼\n",
    "  - 데이터를 한 곳에서 다른 한 곳으로 전송하는 동안 일시적으로 그 데이터를 보관하는 메모리의 영역\n",
    "  - 버퍼링 : 버퍼를 활용하는 방식 또는 버퍼를 채우는 동작을 의미한다.\n",
    "\n",
    "버퍼의 자료구조\n",
    "- 버퍼는 일반적으로 입출력 및 네트워크와 관련된 기능에서 이용\n",
    "- 순서대로 입력/출력/전달 => FIFO 방식의 자료구조인 큐가 활용된다"
   ]
  },
  {
   "cell_type": "code",
   "execution_count": 27,
   "metadata": {},
   "outputs": [
    {
     "name": "stdout",
     "output_type": "stream",
     "text": [
      "1\n",
      "2\n",
      "3\n"
     ]
    }
   ],
   "source": [
    "# 얘는 뭐지..?\n",
    "from collections import deque \n",
    "q = deque()\n",
    "q.append(1)\n",
    "q.append(2)\n",
    "q.append(3)\n",
    "print(q.popleft())\n",
    "print(q.popleft())\n",
    "print(q.popleft())\n",
    "# 아 참고로만 알아두세요."
   ]
  },
  {
   "cell_type": "code",
   "execution_count": 29,
   "metadata": {},
   "outputs": [
    {
     "name": "stdout",
     "output_type": "stream",
     "text": [
      "[(1, 2)] while 1번째 진행 완료\n",
      "[(2, 1), (1, 3)] while 2번째 진행 완료\n",
      "[(1, 3), (3, 1), (2, 2)] while 3번째 진행 완료\n",
      "[(3, 1), (2, 2), (4, 1), (1, 4)] while 4번째 진행 완료\n",
      "[(2, 2), (4, 1), (1, 4), (5, 1), (3, 2)] while 5번째 진행 완료\n",
      "[(4, 1), (1, 4), (5, 1), (3, 2), (6, 1), (2, 3)] while 6번째 진행 완료\n",
      "[(1, 4), (5, 1), (3, 2), (6, 1), (2, 3), (7, 1), (4, 2)] while 7번째 진행 완료\n",
      "[(5, 1), (3, 2), (6, 1), (2, 3), (7, 1), (4, 2), (8, 1), (1, 5)] while 8번째 진행 완료\n",
      "[(3, 2), (6, 1), (2, 3), (7, 1), (4, 2), (8, 1), (1, 5), (9, 1), (5, 2)] while 9번째 진행 완료\n",
      "[(6, 1), (2, 3), (7, 1), (4, 2), (8, 1), (1, 5), (9, 1), (5, 2), (10, 1), (3, 3)] while 10번째 진행 완료\n",
      "[(2, 3), (7, 1), (4, 2), (8, 1), (1, 5), (9, 1), (5, 2), (10, 1), (3, 3), (11, 1), (6, 2)] while 11번째 진행 완료\n",
      "[(7, 1), (4, 2), (8, 1), (1, 5), (9, 1), (5, 2), (10, 1), (3, 3), (11, 1), (6, 2), (12, 1), (2, 4)] while 12번째 진행 완료\n",
      "2 가 아무튼 가져감\n"
     ]
    }
   ],
   "source": [
    "#마이쮸\n",
    "total = 20\n",
    "Q = []\n",
    "newH = 1\n",
    "sumV = 0\n",
    "cnt = 0\n",
    "while sumV < total :\n",
    "    Q.append((newH, 1))\n",
    "    newH += 1\n",
    "    h, candy = Q.pop(0)\n",
    "    sumV += candy\n",
    "    Q.append((h, candy+1))\n",
    "    cnt +=1\n",
    "    print(Q,f'while {cnt}번째 진행 완료')\n",
    "\n",
    "print(h,'가 아무튼 가져감')"
   ]
  }
 ],
 "metadata": {
  "kernelspec": {
   "display_name": "Python 3",
   "language": "python",
   "name": "python3"
  },
  "language_info": {
   "codemirror_mode": {
    "name": "ipython",
    "version": 3
   },
   "file_extension": ".py",
   "mimetype": "text/x-python",
   "name": "python",
   "nbconvert_exporter": "python",
   "pygments_lexer": "ipython3",
   "version": "3.11.4"
  },
  "orig_nbformat": 4
 },
 "nbformat": 4,
 "nbformat_minor": 2
}
