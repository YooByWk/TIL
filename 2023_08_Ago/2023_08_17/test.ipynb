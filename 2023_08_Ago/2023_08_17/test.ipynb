{
 "cells": [
  {
   "cell_type": "markdown",
   "metadata": {},
   "source": [
    "# 2023_08_17\n",
    "\n",
    "## Queue \n",
    "선입선출 FIFO 구조.\n",
    "\n",
    "Front \n",
    "- 저장된 원소 중 첫 번째 원소\n",
    "\n",
    "\n",
    "Rear\n",
    "- 저장된 원소 중 마지막 원소\n",
    "\n",
    "\n",
    "### *큐의 기본 연산*\n",
    "- enQueue  ( stack : push)\n",
    "- deQueue  ( stack : pop)\n",
    "\n",
    "###   Queue 의 연산 과정\n",
    "--> 인덱스가 두개라고 생각하면 편해요 \n",
    "1) 공백 큐 생성 : createQueue() front = rear = -1\n",
    "2) 원소 A 삽입 : enQueue(A)  rear +=  1 Q[rear] = A\n",
    "3) 원소 B 삽입 : enQueue(B)  rear += 1 , Q[rear] = B\n",
    "4) 원소 반환 / 삭제 : deQueue(): front += 1, tmp = Q[front] \\ or tmp = Q.pop(0)\n",
    "5) 원소 C 삽입 : enQueue(c):  rear += 1, Q[rear] = c /\\ Q.append(c)\n",
    "6) 원소 반환 / 삭제 : deQueue()\n",
    "7) 원소 반환 삭제 : deQueue()\n",
    " ### 구현\n",
    "#### 선형큐\n",
    "- 1차원 배열을 이용한 큐\n",
    "   - 큐의 크기 = 배열의 크기\n",
    "   - front : 저장된 첫 번째 원소의 인덱스\n",
    "  - rear : 저장된 마지막 원소의 인덱스 \n",
    "\n",
    "- 상태 표현\n",
    "  - 초기 상태 : front = rear = -1\n",
    "  - 공백 상태 : front == rear \n",
    "  - 포화 상태 : rear == n-1 ( n: 배열의 크기, n-1 배열의 마지막 인덱스)\n",
    "  \n",
    "- 삽입 : enQueue(item)\n",
    "  - 마지막 원소 뒤에 새로운 원소를 삽입하기 위해\n",
    "  - 1) rear값을 하나 증가시켜 새로운 원소를 삽입할 자리 마련\n",
    "  - 2) 그 인덱스에 해당하는 배열원소 Q[rear]에 item을 저장\n",
    "  - 검색 : Qpeek() \n",
    "  - 가장 앞에 있는 원소를 검색하여 반환하는 연산\n",
    "  -  현재 front 의 한자리 뒤 fornt + 1 에 있는 원소 즉 큐의 첫 번째에 있는 원소를 반환."
   ]
  },
  {
   "cell_type": "code",
   "execution_count": 4,
   "metadata": {},
   "outputs": [],
   "source": [
    "def enQ(data):\n",
    "    global rear\n",
    "    if rear == Qsize -1:\n",
    "        print('Q is full',data)\n",
    "    else: \n",
    "        rear += 1\n",
    "        Q[rear] = data"
   ]
  },
  {
   "cell_type": "code",
   "execution_count": 5,
   "metadata": {},
   "outputs": [],
   "source": [
    "def deQ():\n",
    "    global front\n",
    "    if front == rear:\n",
    "        print('Q is empty')\n",
    "        return -1\n",
    "    else:\n",
    "        front += 1\n",
    "        return Q[front]\n"
   ]
  },
  {
   "cell_type": "code",
   "execution_count": 6,
   "metadata": {},
   "outputs": [],
   "source": [
    "Qsize = 3 \n",
    "Q  = [0] * Qsize\n",
    "rear = -1\n",
    "front = -1\n",
    "# 기본적 설정 ?"
   ]
  },
  {
   "cell_type": "markdown",
   "metadata": {},
   "source": [
    "이제 넣고 빼고 해봅시다"
   ]
  },
  {
   "cell_type": "code",
   "execution_count": 7,
   "metadata": {},
   "outputs": [
    {
     "name": "stdout",
     "output_type": "stream",
     "text": [
      "[1, 2, 3]\n",
      "1\n",
      "2\n",
      "3\n",
      "Q is full 4\n",
      "Q is full 5\n"
     ]
    }
   ],
   "source": [
    "enQ(1)\n",
    "enQ(2)\n",
    "# enQ(3)\n",
    "# 아래랑 \n",
    "rear += 1\n",
    "Q[rear] = 3 \n",
    "# 같아요\n",
    "print(Q)\n",
    "print(deQ()) # 1\n",
    "print(deQ()) # 2\n",
    "print(deQ()) # 3\n",
    "enQ(4) # Q is full 4\n",
    "enQ(5) # Q is full 5"
   ]
  },
  {
   "cell_type": "code",
   "execution_count": null,
   "metadata": {},
   "outputs": [],
   "source": [
    "Q.append(1)\n",
    "Q.append(2)\n",
    "Q.append(3)\n",
    "print(Q.pop(0))\n",
    "print(Q.pop(0))\n",
    "print(Q.pop(0))"
   ]
  }
 ],
 "metadata": {
  "kernelspec": {
   "display_name": "Python 3",
   "language": "python",
   "name": "python3"
  },
  "language_info": {
   "codemirror_mode": {
    "name": "ipython",
    "version": 3
   },
   "file_extension": ".py",
   "mimetype": "text/x-python",
   "name": "python",
   "nbconvert_exporter": "python",
   "pygments_lexer": "ipython3",
   "version": "3.11.4"
  },
  "orig_nbformat": 4
 },
 "nbformat": 4,
 "nbformat_minor": 2
}
