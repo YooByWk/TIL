{
 "cells": [
  {
   "cell_type": "markdown",
   "id": "92dd9bc6",
   "metadata": {},
   "source": [
    "# 2023_09_18\n",
    "\n",
    "## 다시 알고리즘"
   ]
  },
  {
   "cell_type": "markdown",
   "id": "e92685b5",
   "metadata": {},
   "source": [
    "### 알고리즘 설계 기법의 종류 ( 배운 것 )\n",
    "1. 전체를 다 보자!! (Brute Force - 완전 탐색) \n",
    "  - 배열 : 반복문을 다 그리기\n",
    "  - 그래프 : DFS, BFS\n",
    "2. 상황마다 좋은 것을 고르자!! (Greedy - 탐욕 )\n",
    "  - 규칙을 찾는 것\n",
    "  - 주의사항 : 항상 좋은 것을 뽑아도, 최종 결과가 최선의 결과를 보장하지는 않는다.\n",
    "3. 하나의 큰 문제를 작은 문제로 나누어 부분적으로 해결하자!! (Dynamic Programming)\n",
    "  - Memoization 기법을 활용\n",
    "  - 점화식 (bottom-up), 재귀 (top-down)\n",
    "4. 큰 문제를 작은 문제로 쪼개서 해결하자\n",
    "  - Divide and Conquer -분할 정복\n",
    "5. 전체 중 가능성 없는 것을 빼고 보자   \n",
    "  - Bactracking 백트래킹"
   ]
  },
  {
   "cell_type": "markdown",
   "id": "461d1840",
   "metadata": {},
   "source": [
    "## Divide and Conquer"
   ]
  },
  {
   "cell_type": "markdown",
   "id": "c73e7539",
   "metadata": {},
   "source": [
    "설계 전략 :\n",
    "- 분할(Divide) : 해결할 문제를 여러 개의 작은 부분으로 나눈다.\n",
    "- 정복(Conquer) : 나눈 작은 문제를 각각 해결한다.\n",
    "- 통합 / 병합 (Combine) : (필요하다면) 해결된 해답을 모은다."
   ]
  },
  {
   "cell_type": "markdown",
   "id": "9772df71",
   "metadata": {},
   "source": [
    "Merge Sort (병합정렬)\n",
    "- 여러개의 정렬된 자료의 집합을 병합하여 한 개의 정렬된 집합으로 만드는 방식\n",
    "- 자료를 최소 단위의 문제까지 나눈 후에 차례대로 정렬하여 최종 결과를 얻어냄\n",
    "- Top-down 방식"
   ]
  },
  {
   "cell_type": "markdown",
   "id": "88798fc9",
   "metadata": {},
   "source": [
    "퀵 정렬\n",
    "병합정렬과 다른 점:\n",
    "1. 병합정렬은 그냥 두 부분으로 나누는 반면, 퀵 정렬은 분할할 때 기준 아이템(pivot) 기준으로 이보다 작은 것은 왼쪽, 큰 것은 오른쪽으로.\n",
    "2. 각 부분 정렬이 끝난 후, 병합 정렬은 \"병합\" 이란 후처리 작업이 필요하나, 퀵 정렬은 필요로 하지 않는다."
   ]
  },
  {
   "cell_type": "markdown",
   "id": "0050409b",
   "metadata": {},
   "source": [
    "이진 검색 (Binary Search)\n",
    "- 중앙원소\n",
    "- 비교\n",
    "- 범위 바꿔서 \n",
    "- 반복"
   ]
  },
  {
   "cell_type": "code",
   "execution_count": 1,
   "id": "a6cf2eaf",
   "metadata": {},
   "outputs": [
    {
     "name": "stdout",
     "output_type": "stream",
     "text": [
      "5 인덱스\n",
      "10 target\n"
     ]
    }
   ],
   "source": [
    "# 이진 검색  - 반복\n",
    "\n",
    "def binarySearch(target):\n",
    "    low = 0\n",
    "    high = len(num)-1\n",
    "    # low > high 의 경우는 데이터를 못찾은 경우\n",
    "    while low <= high:\n",
    "        mid = (low + high) // 2  # 중간값\n",
    "        \n",
    "        # 가운데 값이 정답인 경우 \n",
    "        if num[mid] == target:\n",
    "            return mid\n",
    "        # 가운데 값이 정답보다 작은 경우\n",
    "        elif num[mid] < target:\n",
    "            low = mid + 1\n",
    "        # 가운데 값이 정답보다 큰 경우\n",
    "        else: \n",
    "            high = mid  - 1\n",
    "    else:\n",
    "        return print(\"Fail\")\n",
    "# 2, 4, 7, 9, 11, 19, 23\n",
    "# 이진 검색은 정렬이 우선적으로 수행되어야 함\n",
    "num = [2, 4, 7, 9, 11, 19, 23, 1, 10]\n",
    "num.sort()\n",
    "print(binarySearch(10),'인덱스');print(num[binarySearch(10)], \"target\")\n"
   ]
  },
  {
   "cell_type": "code",
   "execution_count": 2,
   "id": "4b7bc15a",
   "metadata": {},
   "outputs": [
    {
     "name": "stdout",
     "output_type": "stream",
     "text": [
      "0\n"
     ]
    }
   ],
   "source": [
    "# 이진 검색 - 재귀 \n",
    "# 함수 한  번 호출 할 떄마다, low high 변수가 변경되어 사용된다.\n",
    "def binarySearch2(low,high,target):\n",
    "    # 기저 조건 설정 : 언제까지 재귀를 호출할 것인가?\n",
    "    # low < high는 데이터를 찾지 못한 경우\n",
    "    if low > high: \n",
    "        return -1\n",
    "    \n",
    "    mid = (low + high)// 2\n",
    "    # 가운데 값이 정답인 경우 \n",
    "    if num[mid] == target:\n",
    "        return mid\n",
    "    # 가운데 값이 정답보다 작은 경우\n",
    "    elif num[mid] < target:\n",
    "        return binarySearch2(mid + 1, high,target)\n",
    "    # 가운데 값이 정답보다 큰 경우\n",
    "    else: \n",
    "        return binarySearch2(low, mid-1, target)\n",
    "\n",
    "num = [2, 4, 7, 9, 11, 19, 23, 1, 10] ; num.sort()\n",
    "low = 0\n",
    "high = len(num)-1\n",
    "print(binarySearch2(low, high, 1))"
   ]
  },
  {
   "cell_type": "markdown",
   "id": "41c2e649",
   "metadata": {},
   "source": [
    "Parametric Sarch\n"
   ]
  },
  {
   "cell_type": "code",
   "execution_count": 9,
   "id": "988d443e",
   "metadata": {},
   "outputs": [
    {
     "name": "stdout",
     "output_type": "stream",
     "text": [
      "[2, 8, 10, 16, 22, 30, 31, 69]\n"
     ]
    }
   ],
   "source": [
    "def merge(l, r):\n",
    "    result = []\n",
    "    lp = rp = 0\n",
    "    while lp < len(l) and rp < len(r):\n",
    "        if l[lp] < r[rp]:\n",
    "            result.append(l[lp])\n",
    "            lp += 1\n",
    "        else:\n",
    "            result.append(r[rp])\n",
    "            rp += 1\n",
    "    result += l[lp:]\n",
    "    result += r[rp:]\n",
    "    \n",
    "    return result\n",
    "\n",
    "# lst를 정렬 한 후 결과를 return\n",
    "def merge_sort(lst):\n",
    "    N = len(lst)\n",
    "    \n",
    "    if N == 1:\n",
    "        return lst\n",
    "    \n",
    "    result = []\n",
    "    m = N // 2\n",
    "    \n",
    "    # 왼쪽 - merge_sort를 이용해서 정렬  [2, 10, 30, 69]\n",
    "    left_lst = merge_sort(lst[:m])\n",
    "    \n",
    "    # 오른쪽 - merge_sort를 이용해서 정렬  [8, 16, 22, 31]\n",
    "    right_lst = merge_sort(lst[m:])\n",
    "    \n",
    "    \n",
    "    return merge(left_lst, right_lst)\n",
    "    \n",
    "    \n",
    "lst = [69, 10, 30, 2, 16, 8, 31, 22]\n",
    "result = merge_sort(lst)\n",
    "print(result)"
   ]
  },
  {
   "cell_type": "code",
   "execution_count": 8,
   "id": "f00136fb",
   "metadata": {},
   "outputs": [
    {
     "name": "stdout",
     "output_type": "stream",
     "text": [
      "[3, 2, 4, 6, 9, 1, 8, 7, 5]\n",
      "9\n",
      "[1, 2, 3, 4, 5, 6, 7, 8, 9]\n"
     ]
    }
   ],
   "source": [
    "def h_part(s,e):\n",
    "    p = s\n",
    "    i = s  # left\n",
    "    j = e  # rihgt\n",
    "    while i<= j:\n",
    "        while i <= j and lst[i] <= lst[p]:\n",
    "            i += 1\n",
    "        while i <= j and lst[j] >= lst[p]:\n",
    "            j -= 1\n",
    "        if i < j:\n",
    "            lst[i], lst[j] = lst[j], lst[i]\n",
    "    lst[p],lst[j] = lst[j], lst[p]\n",
    "    return j\n",
    "\n",
    "def l_par(s, e):\n",
    "    p = e\n",
    "    i = s-1\n",
    "    for j in range(s, e):\n",
    "        if lst[j] <= lst[p]:\n",
    "            i += 1\n",
    "            lst[i], lst[j] = lst[j], lst[i]\n",
    "    lst[i+1], lst[p] = lst[p], lst[i+1]\n",
    "    return i+1\n",
    "            \n",
    "        \n",
    "\n",
    "def quick_sort(s, e):\n",
    "    if s >= e:\n",
    "        return -1\n",
    "    \n",
    "    pivot = l_par(s, e)\n",
    "    quick_sort(s, pivot-1)\n",
    "    quick_sort(pivot+1, e)\n",
    "    \n",
    "    \n",
    "\n",
    "    \n",
    "lst = [3, 2, 4, 6, 9, 1, 8 ,7, 5]\n",
    "N = len(lst)\n",
    "print(lst)\n",
    "print(N)\n",
    "quick_sort(0,N-1)\n",
    "print(lst)"
   ]
  },
  {
   "cell_type": "code",
   "execution_count": null,
   "id": "81590c0a",
   "metadata": {},
   "outputs": [],
   "source": []
  }
 ],
 "metadata": {
  "kernelspec": {
   "display_name": "Python 3 (ipykernel)",
   "language": "python",
   "name": "python3"
  },
  "language_info": {
   "codemirror_mode": {
    "name": "ipython",
    "version": 3
   },
   "file_extension": ".py",
   "mimetype": "text/x-python",
   "name": "python",
   "nbconvert_exporter": "python",
   "pygments_lexer": "ipython3",
   "version": "3.9.13"
  }
 },
 "nbformat": 4,
 "nbformat_minor": 5
}
